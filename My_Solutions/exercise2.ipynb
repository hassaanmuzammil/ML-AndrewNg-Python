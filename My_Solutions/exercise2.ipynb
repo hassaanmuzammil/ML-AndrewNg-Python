{
 "cells": [
  {
   "cell_type": "markdown",
   "metadata": {
    "button": false,
    "deletable": true,
    "new_sheet": false,
    "run_control": {
     "read_only": false
    }
   },
   "source": [
    "# Progamming Exercise 1: Logistic Regression\n",
    "\n",
    "The file Data/ex2data1.txt contains the dataset for a logistic regression problem. The first column is the Exam 1 marks, the second cloumn is the Exam 2 marks and the third column is the admission decision. Build a logistic regression model to predict whether a student gets admitted into a university given his both exam marks.\n",
    "Predict the probability of the student's admission into the university."
   ]
  },
  {
   "cell_type": "code",
   "execution_count": 113,
   "metadata": {
    "button": false,
    "collapsed": true,
    "deletable": true,
    "new_sheet": false,
    "run_control": {
     "read_only": false
    }
   },
   "outputs": [],
   "source": [
    "# imports\n",
    "# Scientific and vector computation for python\n",
    "import numpy as np\n",
    "# Plotting library\n",
    "import matplotlib.pyplot as plt\n",
    "# For Dataframe \n",
    "import pandas as pd\n",
    "# Optimization module in scipy\n",
    "from scipy import optimize"
   ]
  },
  {
   "cell_type": "code",
   "execution_count": 267,
   "metadata": {
    "button": false,
    "collapsed": true,
    "deletable": true,
    "new_sheet": false,
    "run_control": {
     "read_only": false
    }
   },
   "outputs": [],
   "source": [
    "#Load dataset and initialize variables\n",
    "path2 = \"/Users/hassaanmuzammil/Downloads/ml-coursera-python-assignments-master/Exercise2/Data/ex2data1.txt\"\n",
    "data = np.loadtxt(path2,delimiter = ',')\n",
    "X = data[:,0:2]\n",
    "y = data[:,2]\n",
    "m = y.shape[0]"
   ]
  },
  {
   "cell_type": "markdown",
   "metadata": {
    "button": false,
    "deletable": true,
    "new_sheet": false,
    "run_control": {
     "read_only": false
    }
   },
   "source": [
    "Let us visualize the dataset"
   ]
  },
  {
   "cell_type": "code",
   "execution_count": 67,
   "metadata": {
    "button": false,
    "collapsed": false,
    "deletable": true,
    "new_sheet": false,
    "run_control": {
     "read_only": false
    }
   },
   "outputs": [
    {
     "data": {
      "text/plain": [
       "<matplotlib.legend.Legend at 0x12f8d5890>"
      ]
     },
     "execution_count": 67,
     "metadata": {},
     "output_type": "execute_result"
    },
    {
     "data": {
      "image/png": "[encoded data removed]",
      "text/plain": [
       "<Figure size 432x288 with 1 Axes>"
      ]
     },
     "metadata": {
      "needs_background": "light"
     },
     "output_type": "display_data"
    }
   ],
   "source": [
    "# Find Indices of Positive and Negative Examples\n",
    "pos = y == 1\n",
    "neg = y == 0\n",
    "\n",
    "# Plot Examples\n",
    "plt.scatter(X[pos, 0], X[pos, 1],label = 'Admitted')\n",
    "plt.scatter(X[neg, 0], X[neg, 1], label = 'Not Admitted')\n",
    "plt.xlabel('Exam 1 score')\n",
    "plt.ylabel('Exam 2 score')\n",
    "plt.legend()"
   ]
  },
  {
   "cell_type": "markdown",
   "metadata": {
    "button": false,
    "deletable": true,
    "new_sheet": false,
    "run_control": {
     "read_only": false
    }
   },
   "source": [
    "The logistic regression hypothesis is defined as:\n",
    "\n",
    "$$ h_\\theta(x) = g(\\theta^T x)$$\n",
    "where function $g$ is the sigmoid function. The sigmoid function is defined as:\n",
    "\n",
    "$$g(z) = \\frac{1}{1+e^{-z}}$$"
   ]
  },
  {
   "cell_type": "code",
   "execution_count": 68,
   "metadata": {
    "button": false,
    "collapsed": true,
    "deletable": true,
    "new_sheet": false,
    "run_control": {
     "read_only": false
    }
   },
   "outputs": [],
   "source": [
    "#Sigmoid function for mapping output to 0-1 \n",
    "def sigmoid(x):\n",
    "  return 1/(1+np.exp(-x))"
   ]
  },
  {
   "cell_type": "code",
   "execution_count": 69,
   "metadata": {
    "button": false,
    "collapsed": true,
    "deletable": true,
    "new_sheet": false,
    "run_control": {
     "read_only": false
    }
   },
   "outputs": [],
   "source": [
    "#Predicting y given the theta/weight values and X\n",
    "def predicting_y(W,X):\n",
    "    z = np.array(W[0] + W[1] * X[:,0] + W[2] * X[:,1])\n",
    "    return sigmoid(z)"
   ]
  },
  {
   "cell_type": "markdown",
   "metadata": {
    "button": false,
    "deletable": true,
    "new_sheet": false,
    "run_control": {
     "read_only": false
    }
   },
   "source": [
    "#### Method 1: Gradient Descent\n",
    "\n",
    "The cost function in logistic regression is\n",
    "\n",
    "$$ J(\\theta) = \\frac{1}{m} \\sum_{i=1}^{m} \\left[ -y^{(i)} \\log\\left(h_\\theta\\left( x^{(i)} \\right) \\right) - \\left( 1 - y^{(i)}\\right) \\log \\left( 1 - h_\\theta\\left( x^{(i)} \\right) \\right) \\right]$$\n",
    "and the gradient of the cost is a vector of the same length as $\\theta$ where the $j^{th}$ element (for $j = 0, 1, \\cdots , n$) is defined as follows:\n",
    "\n",
    "$$ \\frac{\\partial J(\\theta)}{\\partial \\theta_j} = \\frac{1}{m} \\sum_{i=1}^m \\left( h_\\theta \\left( x^{(i)} \\right) - y^{(i)} \\right) x_j^{(i)} $$\n",
    "Note that while this gradient looks identical to the linear regression gradient, the formula is actually different because linear and logistic regression have different definitions of $h_\\theta(x)$.\n",
    "\n",
    "Implement the gradient descent algorithm to reduce the cost function to a minimum value. Note that binary entropy cost function is not a convex function as it may have multiple minimas, hence it is possible converge to a local minima. Also, it can produce inf values and the graph may fluctuate at the start of iterations. \n",
    "\n",
    "Use small alpha and more iterations for better results."
   ]
  },
  {
   "cell_type": "code",
   "execution_count": 132,
   "metadata": {
    "button": false,
    "collapsed": true,
    "deletable": true,
    "new_sheet": false,
    "run_control": {
     "read_only": false
    }
   },
   "outputs": [],
   "source": [
    "#Calculating the cost of logistic regression using Binary cross entropy\n",
    "def loss_function(W,X,y):\n",
    "    with np.errstate(divide='ignore', invalid='ignore'):\n",
    "         y_pred = predicting_y(W,X)\n",
    "         return (-1/m) * sum(y * np.log(y_pred) + (1-y) * np.log(1-y_pred))\n"
   ]
  },
  {
   "cell_type": "code",
   "execution_count": 133,
   "metadata": {
    "button": false,
    "collapsed": true,
    "deletable": true,
    "new_sheet": false,
    "run_control": {
     "read_only": false
    }
   },
   "outputs": [],
   "source": [
    "#Calculating the gradient of cost function wrt to the theta values\n",
    "def gradient_cal(W,X,y):\n",
    "    grad = [0] * 3\n",
    "    y_pred = predicting_y(W,X)\n",
    "    grad[0] = (-1/m) * sum(y * (1-y_pred) - (1-y) * y_pred)\n",
    "    grad[1] = (-1/m) * sum(y * (1-y_pred) * X[:,0] - (1-y) * y_pred * X[:,0])\n",
    "    grad[2] = (-1/m) * sum(y * (1-y_pred) * X[:,1] - (1-y) * y_pred * X[:,1])\n",
    "    return grad"
   ]
  },
  {
   "cell_type": "code",
   "execution_count": 134,
   "metadata": {
    "button": false,
    "collapsed": true,
    "deletable": true,
    "new_sheet": false,
    "run_control": {
     "read_only": false
    }
   },
   "outputs": [],
   "source": [
    "#Applying gradient descent\n",
    "def gradient_descent(W,X,y,learning_rate=0.01,iters=200000):\n",
    "    \n",
    "    print('----------------------------------------------')\n",
    "    print('Pre Gradient Descent')\n",
    "    print('Learning Rate: ',learning_rate,'\\nIterations:',iters)\n",
    "    print('Initial Weights: ', W)\n",
    "    print('Initial Loss Function: ',loss_function(W,X,y)) \n",
    "    J_history = []\n",
    "    for i in range(iters):\n",
    "        \n",
    "        W[0] = W[0] - learning_rate * gradient_cal(W,X,y)[0]\n",
    "        W[1] = W[1] - learning_rate * gradient_cal(W,X,y)[1]\n",
    "        W[2] = W[2] - learning_rate * gradient_cal(W,X,y)[2]\n",
    "        J_history.append(loss_function(W,X,y))\n",
    "\n",
    "    print('----------------------------------------------')\n",
    "    print('Post Gradient Descent')\n",
    "    print('Final Weights: ', W)\n",
    "    print('Final Loss Function: ',loss_function(W,X,y))\n",
    "    \n",
    "    return W, loss_function(W,X,y), J_history"
   ]
  },
  {
   "cell_type": "code",
   "execution_count": 268,
   "metadata": {
    "button": false,
    "collapsed": false,
    "deletable": true,
    "new_sheet": false,
    "run_control": {
     "read_only": false
    }
   },
   "outputs": [
    {
     "name": "stdout",
     "output_type": "stream",
     "text": [
      "----------------------------------------------\n",
      "Pre Gradient Descent\n",
      "Learning Rate:  0.01 \n",
      "Iterations: 200000\n",
      "Initial Weights:  [1, 1, 1]\n",
      "Initial Loss Function:  nan\n",
      "----------------------------------------------\n",
      "Post Gradient Descent\n",
      "Final Weights:  [-31.956566367028444, 0.3048232166384523, 0.21474187500617564]\n",
      "Final Loss Function:  0.2595656353815531\n"
     ]
    },
    {
     "data": {
      "text/plain": [
       "Text(0, 0.5, 'Cost Function')"
      ]
     },
     "execution_count": 268,
     "metadata": {},
     "output_type": "execute_result"
    },
    {
     "data": {
      "image/png": "[encoded data removed]",
      "text/plain": [
       "<Figure size 432x288 with 1 Axes>"
      ]
     },
     "metadata": {
      "needs_background": "light"
     },
     "output_type": "display_data"
    }
   ],
   "source": [
    "#Running the model\n",
    "W = [1,1,1]\n",
    "#Optimized theta and minimum cost\n",
    "theta, min_cost, J_history = gradient_descent(W,X,y)\n",
    "plt.plot(J_history)\n",
    "plt.xlabel(\"Iterations\")\n",
    "plt.ylabel(\"Cost Function\")"
   ]
  },
  {
   "cell_type": "code",
   "execution_count": 106,
   "metadata": {
    "button": false,
    "collapsed": false,
    "deletable": true,
    "new_sheet": false,
    "run_control": {
     "read_only": false
    }
   },
   "outputs": [
    {
     "data": {
      "text/plain": [
       "<matplotlib.legend.Legend at 0x130cc3050>"
      ]
     },
     "execution_count": 106,
     "metadata": {},
     "output_type": "execute_result"
    },
    {
     "data": {
      "image/png": "[encoded data removed]",
      "text/plain": [
       "<Figure size 432x288 with 1 Axes>"
      ]
     },
     "metadata": {
      "needs_background": "light"
     },
     "output_type": "display_data"
    }
   ],
   "source": [
    "plt.scatter(X[pos, 0], X[pos, 1],label = 'Admitted')\n",
    "plt.scatter(X[neg, 0], X[neg, 1], label = 'Not Admitted')\n",
    "plt.xlabel('Exam 1 score')\n",
    "plt.ylabel('Exam 2 score')\n",
    "#Plotting the decision boundary\n",
    "x_value= np.array([np.min(X[:,1]),np.max(X[:,1])])\n",
    "y_value=-(theta[0] + theta[1]*x_value)/theta[2]\n",
    "plt.plot(x_value,y_value, \"r\",label='Decision Boundary')\n",
    "plt.title('Decision Boundary plot')\n",
    "plt.legend()"
   ]
  },
  {
   "cell_type": "markdown",
   "metadata": {
    "button": false,
    "deletable": true,
    "new_sheet": false,
    "run_control": {
     "read_only": false
    }
   },
   "source": [
    "We can clearly see the two distinctions. Now we predict the accuracy of the model on the training set.\n",
    "\n",
    "Evaluating the model Method 1:\n",
    "See how well the learned model predicts on our training set."
   ]
  },
  {
   "cell_type": "code",
   "execution_count": 136,
   "metadata": {
    "button": false,
    "collapsed": false,
    "deletable": true,
    "new_sheet": false,
    "run_control": {
     "read_only": false
    },
    "scrolled": true
   },
   "outputs": [
    {
     "name": "stdout",
     "output_type": "stream",
     "text": [
      "----------------------------------------------\n",
      "\n",
      "Visualizing predicted and original y values in a dataframe: \n",
      "    y_pred  y_true\n",
      "0        0       0\n",
      "1        0       0\n",
      "2        0       0\n",
      "3        1       1\n",
      "4        1       1\n",
      "5        0       0\n",
      "6        1       1\n",
      "7        1       1\n",
      "8        1       1\n",
      "9        1       1\n",
      "10       1       0\n",
      "11       0       0\n",
      "12       1       1\n",
      "13       1       1\n",
      "14       0       0\n",
      "15       1       1\n",
      "16       1       1\n",
      "17       0       0\n",
      "18       1       1\n",
      "19       1       1\n",
      "20       0       0\n",
      "21       1       1\n",
      "22       0       0\n",
      "23       0       0\n",
      "24       1       1\n",
      "25       1       1\n",
      "26       1       1\n",
      "27       1       0\n",
      "28       0       0\n",
      "29       0       0\n",
      "30       1       1\n",
      "31       1       1\n",
      "32       0       0\n",
      "33       0       1\n",
      "34       0       0\n",
      "35       0       0\n",
      "36       0       0\n",
      "37       1       1\n",
      "38       0       0\n",
      "39       0       0\n",
      "40       1       1\n",
      "41       0       0\n",
      "42       1       1\n",
      "43       1       0\n",
      "44       0       0\n",
      "45       0       0\n",
      "46       1       1\n",
      "47       1       1\n",
      "48       1       1\n",
      "49       1       1\n",
      "50       1       1\n",
      "51       1       1\n",
      "52       1       1\n",
      "53       0       0\n",
      "54       0       0\n",
      "55       0       0\n",
      "56       1       1\n",
      "57       0       0\n",
      "58       1       1\n",
      "59       1       1\n",
      "60       1       1\n",
      "61       0       0\n",
      "62       0       0\n",
      "63       0       0\n",
      "64       0       0\n",
      "65       0       0\n",
      "66       1       1\n",
      "67       0       0\n",
      "68       1       1\n",
      "69       1       1\n",
      "70       0       0\n",
      "71       1       1\n",
      "72       1       1\n",
      "73       1       1\n",
      "74       1       1\n",
      "75       1       1\n",
      "76       1       1\n",
      "77       0       1\n",
      "78       0       0\n",
      "79       1       0\n",
      "80       1       1\n",
      "81       1       1\n",
      "82       1       1\n",
      "83       0       1\n",
      "84       1       1\n",
      "85       1       1\n",
      "86       0       0\n",
      "87       1       1\n",
      "88       1       1\n",
      "89       0       0\n",
      "90       1       1\n",
      "91       1       1\n",
      "92       0       0\n",
      "93       1       1\n",
      "94       1       1\n",
      "95       1       1\n",
      "96       0       1\n",
      "97       1       1\n",
      "98       0       1\n",
      "99       1       1\n"
     ]
    }
   ],
   "source": [
    "#Predicting y from our predicting_y function\n",
    "\n",
    "y_pred = predicting_y(W,X)\n",
    "y_pred = list(y_pred)\n",
    "for i in range(len(y_pred)):\n",
    "    if y_pred[i] > 0.5:\n",
    "        y_pred[i] = 1\n",
    "    else:\n",
    "        y_pred[i] = 0\n",
    "y_pred = np.array(y_pred)\n",
    "\n",
    "# Default value of display.max_rows is 10 i.e. at max 10 rows will be printed.\n",
    "# Set it None to display all rows in the dataframe\n",
    "pd.set_option('display.max_rows', None)\n",
    "\n",
    "#Visualizing y_pred and y_true values side by side\n",
    "print('----------------------------------------------')\n",
    "print(\"\\nVisualizing predicted and original y values in a dataframe: \")\n",
    "\n",
    "df3 = pd.DataFrame(y_pred,columns=['y_pred'])\n",
    "y_true = list(y)\n",
    "for i in range(len(y)):\n",
    "    y_true[i] = int(y_true[i])\n",
    "df3['y_true'] = y_true \n",
    "\n",
    "print(df3)\n"
   ]
  },
  {
   "cell_type": "markdown",
   "metadata": {
    "button": false,
    "deletable": true,
    "new_sheet": false,
    "run_control": {
     "read_only": false
    }
   },
   "source": [
    "We can see that most of the admission decisions are predicted correctly.\n",
    "Lets compute the accuracy of the model on the training set"
   ]
  },
  {
   "cell_type": "code",
   "execution_count": 137,
   "metadata": {
    "button": false,
    "collapsed": false,
    "deletable": true,
    "new_sheet": false,
    "run_control": {
     "read_only": false
    }
   },
   "outputs": [
    {
     "name": "stdout",
     "output_type": "stream",
     "text": [
      "----------------------------------------------\n",
      "Accuracy Score from sklearn:  0.91\n"
     ]
    }
   ],
   "source": [
    "#Calculating accuracy score using sklearn\n",
    "from sklearn.metrics import accuracy_score \n",
    "print('----------------------------------------------')\n",
    "print (\"Accuracy Score from sklearn: \", accuracy_score(y, y_pred))"
   ]
  },
  {
   "cell_type": "markdown",
   "metadata": {
    "button": false,
    "deletable": true,
    "new_sheet": false,
    "run_control": {
     "read_only": false
    }
   },
   "source": [
    "90 out of 99 admission decisions were predicted correctly"
   ]
  },
  {
   "cell_type": "code",
   "execution_count": 138,
   "metadata": {
    "button": false,
    "collapsed": false,
    "deletable": true,
    "new_sheet": false,
    "run_control": {
     "read_only": false
    }
   },
   "outputs": [
    {
     "name": "stdout",
     "output_type": "stream",
     "text": [
      "Probability of admission:  0.5033843876185621\n"
     ]
    }
   ],
   "source": [
    "X_test = np.array([[45,85]])\n",
    "print(\"Probability of admission: \",predicting_y(theta,X_test)[0])"
   ]
  },
  {
   "cell_type": "markdown",
   "metadata": {
    "button": false,
    "deletable": true,
    "new_sheet": false,
    "run_control": {
     "read_only": false
    }
   },
   "source": [
    "#### Method 2: scipy.optimize\n",
    "\n",
    "We wrote a cost function and calculated its gradient, then took a gradient descent step accordingly. Now, instead of taking gradient descent steps, we will use the scipy.optimize module. \n",
    "\n",
    "SciPy is a numerical computing library for python. It provides an optimization module for root finding and minimization. As of scipy 1.0, the function scipy.optimize.minimize is the method to use for optimization problems(both constrained and unconstrained).\n",
    "\n",
    "For logistic regression, we want to optimize the cost function $J(\\theta)$ with parameters $\\theta$. Concretely, we are going to use optimize.minimize to find the best parameters $\\theta$ for the logistic regression cost function, given a fixed dataset (of X and y values). We will pass to optimize.minimize the following inputs:\n",
    "\n",
    "  costFunction: A cost function that, when given the training set and a particular $\\theta$, computes the               logistic regression cost and gradient with respect to $\\theta$ for the dataset (X, y). It is important to note that   we only pass the name of the function without the parenthesis. This indicates that we are only providing a           reference to this function, and not evaluating the result from this function.\n",
    "\n",
    "  initial_theta: The initial values of the parameters we are trying to optimize.\n",
    "  (X, y): These are additional arguments to the cost function.\n",
    "    \n",
    "  jac: Indication if the cost function returns the Jacobian (gradient) along with cost value. (True)\n",
    "    \n",
    "  method: Optimization method/algorithm to use\n",
    "    \n",
    "  options: Additional options which might be specific to the specific optimization method. In the following, we only   tell the algorithm the maximum number of iterations before it terminates.\n",
    "   \n",
    "If you have completed the costFunction correctly, optimize.minimize will converge on the right optimization parameters and return the final values of the cost and $\\theta$ in a class object. Notice that by using optimize.minimize, you did not have to write any loops yourself, or set a learning rate like you did for gradient descent. This is all done by optimize.minimize: you only needed to provide a function calculating the cost and the gradient."
   ]
  },
  {
   "cell_type": "code",
   "execution_count": 151,
   "metadata": {
    "button": false,
    "collapsed": false,
    "deletable": true,
    "new_sheet": false,
    "run_control": {
     "read_only": false
    }
   },
   "outputs": [
    {
     "name": "stdout",
     "output_type": "stream",
     "text": [
      "Cost at initial theta (zeros): 0.693\n",
      "Expected cost (approx): 0.693\n",
      "\n",
      "Gradient at initial theta (zeros):\n",
      "\t[-0.1000, -12.0092, -11.2628]\n",
      "Expected gradients (approx):\n",
      "\t[-0.1000, -12.0092, -11.2628]\n",
      "\n",
      "Cost at test theta: 0.218\n",
      "Expected cost (approx): 0.218\n",
      "\n",
      "Gradient at test theta:\n",
      "\t[0.043, 2.566, 2.647]\n",
      "Expected gradients (approx):\n",
      "\t[0.043, 2.566, 2.647]\n"
     ]
    }
   ],
   "source": [
    "\n",
    "# Add intercept term to X\n",
    "n = X.shape[1]\n",
    "#print(X)\n",
    "\n",
    "# Add intercept term to X\n",
    "X = np.concatenate([np.ones((m, 1)), X], axis=1)  #run this once only\n",
    "\n",
    "#print(X)\n",
    "\n",
    "#Cost Function method 2 \n",
    "#Easier implementation and is compatible with scipy.optimize module\n",
    "def costFunction(theta, X, y):\n",
    "    \"\"\"\n",
    "    Compute cost and gradient for logistic regression. \n",
    "    \n",
    "    Parameters\n",
    "    ----------\n",
    "    theta : array_like\n",
    "        The parameters for logistic regression. This a vector\n",
    "        of shape (n+1, ).\n",
    "    \n",
    "    X : array_like\n",
    "        The input dataset of shape (m x n+1) where m is the total number\n",
    "        of data points and n is the number of features. We assume the \n",
    "        intercept has already been added to the input.\n",
    "    \n",
    "    y : arra_like\n",
    "        Labels for the input. This is a vector of shape (m, ).\n",
    "    \n",
    "    Returns\n",
    "    -------\n",
    "    J : float\n",
    "        The computed value for the cost function. \n",
    "    \n",
    "    grad : array_like\n",
    "        A vector of shape (n+1, ) which is the gradient of the cost\n",
    "        function with respect to theta, at the current values of theta.\n",
    "        \n",
    "    Instructions\n",
    "    ------------\n",
    "    Compute the cost of a particular choice of theta. You should set J to \n",
    "    the cost. Compute the partial derivatives and set grad to the partial\n",
    "    derivatives of the cost w.r.t. each parameter in theta.\n",
    "    \"\"\"\n",
    "    # Initialize some useful values\n",
    "    m = y.size  # number of training examples\n",
    "\n",
    "    # You need to return the following variables correctly \n",
    "    J = 0\n",
    "    grad = list(np.zeros(theta.shape))\n",
    "\n",
    "    h = sigmoid(np.dot(X,theta))\n",
    "    \n",
    "    J = (1/m) * sum(-y * np.log(h) - (1-y) * np.log(1-h))\n",
    "    \n",
    "    for i in range(len(grad)):\n",
    "        grad[i] = (1/m) * sum((h - y) * X[:,i]) \n",
    "        \n",
    "    grad = np.array(grad)\n",
    "    return J, grad\n",
    "\n",
    "\n",
    "# Initialize fitting parameters\n",
    "initial_theta = np.zeros(n+1)\n",
    "\n",
    "cost, grad = costFunction(initial_theta, X, y)\n",
    "\n",
    "print('Cost at initial theta (zeros): {:.3f}'.format(cost))\n",
    "print('Expected cost (approx): 0.693\\n')\n",
    "\n",
    "print('Gradient at initial theta (zeros):')\n",
    "print('\\t[{:.4f}, {:.4f}, {:.4f}]'.format(*grad))\n",
    "print('Expected gradients (approx):\\n\\t[-0.1000, -12.0092, -11.2628]\\n')\n",
    "\n",
    "# Compute and display cost and gradient with non-zero theta\n",
    "test_theta = np.array([-24, 0.2, 0.2])\n",
    "cost, grad = costFunction(test_theta, X, y)\n",
    "\n",
    "print('Cost at test theta: {:.3f}'.format(cost))\n",
    "print('Expected cost (approx): 0.218\\n')\n",
    "\n",
    "print('Gradient at test theta:')\n",
    "print('\\t[{:.3f}, {:.3f}, {:.3f}]'.format(*grad))\n",
    "print('Expected gradients (approx):\\n\\t[0.043, 2.566, 2.647]')"
   ]
  },
  {
   "cell_type": "markdown",
   "metadata": {
    "button": false,
    "deletable": true,
    "new_sheet": false,
    "run_control": {
     "read_only": false
    }
   },
   "source": [
    "See documention for scipy's optimize.minimize  for description about the different parameters\n",
    "The function returns an object 'OptimizeResult'\n",
    "We use truncated Newton algorithm for optimization which is equivalent to MATLAB's fminunc\n",
    "See https://stackoverflow.com/questions/18801002/fminunc-alternate-in-numpy"
   ]
  },
  {
   "cell_type": "code",
   "execution_count": 152,
   "metadata": {
    "button": false,
    "collapsed": false,
    "deletable": true,
    "new_sheet": false,
    "run_control": {
     "read_only": false
    }
   },
   "outputs": [
    {
     "name": "stdout",
     "output_type": "stream",
     "text": [
      "Cost at theta found by optimize.minimize: 0.203\n",
      "Expected cost (approx): 0.203\n",
      "\n",
      "theta: \n",
      "\t[-25.161, 0.206, 0.201]\n",
      "Expected theta (approx):\n",
      "\t[-25.161, 0.206, 0.201]\n"
     ]
    }
   ],
   "source": [
    "# set options for optimize.minimize\n",
    "options= {'maxiter': 400}\n",
    "\n",
    "res = optimize.minimize(costFunction,\n",
    "                        initial_theta,\n",
    "                        (X, y),\n",
    "                        jac=True,\n",
    "                        method='TNC',\n",
    "                        options=options)\n",
    "\n",
    "# the fun property of 'OptimizeResult' object returns\n",
    "# the value of costFunction at optimized theta\n",
    "cost = res.fun\n",
    "\n",
    "# the optimized theta is in the x property\n",
    "theta = res.x\n",
    "\n",
    "# Print theta to screen\n",
    "print('Cost at theta found by optimize.minimize: {:.3f}'.format(cost))\n",
    "print('Expected cost (approx): 0.203\\n');\n",
    "\n",
    "print('theta: ')\n",
    "print('\\t[{:.3f}, {:.3f}, {:.3f}]'.format(*theta))\n",
    "print('Expected theta (approx):\\n\\t[-25.161, 0.206, 0.201]')\n"
   ]
  },
  {
   "cell_type": "markdown",
   "metadata": {
    "button": false,
    "deletable": true,
    "new_sheet": false,
    "run_control": {
     "read_only": false
    }
   },
   "source": [
    "Evaluating the model Method 2:\n",
    "\n",
    "Another way to evaluate the quality of the parameters we have found is to see the probabaility of a student getting admission in the university given his marks.\n",
    "\n",
    "For a student with an Exam 1 score of 45 and an Exam 2 score of 85, you should expect to see an admission probability of 0.776. "
   ]
  },
  {
   "cell_type": "code",
   "execution_count": 153,
   "metadata": {
    "button": false,
    "collapsed": false,
    "deletable": true,
    "new_sheet": false,
    "run_control": {
     "read_only": false
    }
   },
   "outputs": [
    {
     "name": "stdout",
     "output_type": "stream",
     "text": [
      "Probability of admission:  0.7674556976060447\n"
     ]
    }
   ],
   "source": [
    "theta = np.array([-25.161, 0.206, 0.201])\n",
    "prob = sigmoid(np.dot([1, 45, 85], theta))\n",
    "print(\"Probability of admission: \",prob)"
   ]
  },
  {
   "cell_type": "code",
   "execution_count": 156,
   "metadata": {
    "button": false,
    "collapsed": false,
    "deletable": true,
    "new_sheet": false,
    "run_control": {
     "read_only": false
    }
   },
   "outputs": [
    {
     "data": {
      "text/plain": [
       "<matplotlib.legend.Legend at 0x135325a90>"
      ]
     },
     "execution_count": 156,
     "metadata": {},
     "output_type": "execute_result"
    },
    {
     "data": {
      "image/png": "[encoded data removed]",
      "text/plain": [
       "<Figure size 432x288 with 1 Axes>"
      ]
     },
     "metadata": {
      "needs_background": "light"
     },
     "output_type": "display_data"
    }
   ],
   "source": [
    "#Note that X now has a ones column appended to it\n",
    "plt.scatter(X[pos, 1], X[pos, 2],label = 'Admitted')\n",
    "plt.scatter(X[neg, 1], X[neg, 2], label = 'Not Admitted')\n",
    "plt.xlabel('Exam 1 score')\n",
    "plt.ylabel('Exam 2 score')\n",
    "#Plotting the decision boundary\n",
    "x_value= np.array([np.min(X[:,2]),np.max(X[:,2])])\n",
    "y_value=-(theta[0] + theta[1]*x_value)/theta[2]\n",
    "plt.plot(x_value,y_value, \"r\",label='Decision Boundary')\n",
    "plt.title('Decision Boundary plot')\n",
    "plt.legend()"
   ]
  },
  {
   "cell_type": "code",
   "execution_count": 163,
   "metadata": {
    "button": false,
    "collapsed": false,
    "deletable": true,
    "new_sheet": false,
    "run_control": {
     "read_only": false
    }
   },
   "outputs": [
    {
     "name": "stdout",
     "output_type": "stream",
     "text": [
      "----------------------------------------------\n",
      "Accuracy Score from sklearn:  0.9\n"
     ]
    }
   ],
   "source": [
    "#Revert X back to original(having no ones column)\n",
    "y_pred2 = predicting_y(theta,X)\n",
    "y_pred2 = list(y_pred2)\n",
    "for i in range(len(y_pred2)):\n",
    "    if y_pred2[i] > 0.5:\n",
    "        y_pred2[i] = 1\n",
    "    else:\n",
    "        y_pred2[i] = 0\n",
    "y_pred2 = np.array(y_pred2)\n",
    "#Calculating accuracy score using sklearn\n",
    "from sklearn.metrics import accuracy_score \n",
    "print('----------------------------------------------')\n",
    "print (\"Accuracy Score from sklearn: \", accuracy_score(y, y_pred2))"
   ]
  },
  {
   "cell_type": "markdown",
   "metadata": {
    "button": false,
    "deletable": true,
    "new_sheet": false,
    "run_control": {
     "read_only": false
    }
   },
   "source": [
    "The second model has an accuracy score of 0.9 on the training set and slightly different theta. \n",
    "We can safely say that both the gradient descent method and scipy.optimize module have produced \n",
    "similar results with minimal differences, hence any model can be used to predict future decisions."
   ]
  },
  {
   "cell_type": "markdown",
   "metadata": {
    "button": false,
    "deletable": true,
    "new_sheet": false,
    "run_control": {
     "read_only": false
    }
   },
   "source": [
    "# Programming Exercise 2: Regularized Logistic Regression\n",
    "\n",
    "Implement regularized logistic regression to predict whether microchips from a fabrication plant passes quality assurance (QA). During QA, each microchip goes through various tests to ensure it is functioning correctly. Suppose you are the product manager of the factory and you have the test results for some microchips on two different tests. From these two tests, you would like to determine whether the microchips should be accepted or rejected.\n",
    "\n",
    "The file ex2data2.txt contains the dataset for this problem. The first column is the result of test 1 and the second column represents the result of test 2. The third column tells whether the microchip sample was accepted or rejected. "
   ]
  },
  {
   "cell_type": "markdown",
   "metadata": {
    "button": false,
    "deletable": true,
    "new_sheet": false,
    "run_control": {
     "read_only": false
    }
   },
   "source": [
    "Load the Dataset"
   ]
  },
  {
   "cell_type": "code",
   "execution_count": 241,
   "metadata": {
    "button": false,
    "collapsed": true,
    "deletable": true,
    "new_sheet": false,
    "run_control": {
     "read_only": false
    }
   },
   "outputs": [],
   "source": [
    "# Load Data\n",
    "# The first two columns contains the X values and the third column\n",
    "# contains the label (y).\n",
    "path = '/Users/hassaanmuzammil/Downloads/ml-coursera-python-assignments-master/Exercise2/Data/ex2data2.txt'\n",
    "data = np.loadtxt(path , delimiter=',')\n",
    "X, y = data[:, 0:2], data[:, 2]\n",
    "m = y.size  # number of training example"
   ]
  },
  {
   "cell_type": "markdown",
   "metadata": {
    "button": false,
    "deletable": true,
    "new_sheet": false,
    "run_control": {
     "read_only": false
    }
   },
   "source": [
    "Visualizing the dataset"
   ]
  },
  {
   "cell_type": "code",
   "execution_count": 211,
   "metadata": {
    "button": false,
    "collapsed": false,
    "deletable": true,
    "new_sheet": false,
    "run_control": {
     "read_only": false
    }
   },
   "outputs": [
    {
     "data": {
      "image/png": "[encoded data removed]",
      "text/plain": [
       "<Figure size 432x288 with 1 Axes>"
      ]
     },
     "metadata": {
      "needs_background": "light"
     },
     "output_type": "display_data"
    }
   ],
   "source": [
    "pos = y == 1\n",
    "neg = y == 0\n",
    "\n",
    "plt.scatter(X[pos,0], X[pos,1],label = 'Accepted')\n",
    "plt.scatter(X[neg,0], X[neg,1],label = 'Rejected')\n",
    "plt.xlabel('Microchip Test 1')\n",
    "plt.ylabel('Microchip Test 2')\n",
    "plt.title('Plotting Data')\n",
    "plt.legend()\n",
    "plt.show()"
   ]
  },
  {
   "cell_type": "markdown",
   "metadata": {
    "button": false,
    "deletable": true,
    "new_sheet": false,
    "run_control": {
     "read_only": false
    }
   },
   "source": [
    "#### Feature mapping\n",
    "    \n",
    "One way to fit the data better is to create more features from each data point.\n",
    "In the function mapFeature function, we will map the features into all polynomial terms of x1 and x2 up to the sixth power.\n",
    "\n",
    "     mapFeature(x)=[1 x1 x2 x1^2 x1x2 x2^2 x1^3… x1x2^5 x2^6]Transpose\n",
    "\n",
    "As a result of this mapping, our vector of two features (the scores on two QA tests) has been transformed into a 28-dimensional vector. A logistic regression classifier trained on this higher-dimension feature vector will have a more complex decision boundary and will appear nonlinear when drawn in our 2-dimensional plot. \n",
    "     \n",
    "While the feature mapping allows us to build a more expressive classifier, it also more susceptible to overfitting. In the next parts of the exercise, you will implement regularized logistic regression to fit the data and also \n",
    "see for yourself how regularization can help combat the overfitting problem."
   ]
  },
  {
   "cell_type": "code",
   "execution_count": 212,
   "metadata": {
    "button": false,
    "collapsed": true,
    "deletable": true,
    "new_sheet": false,
    "run_control": {
     "read_only": false
    }
   },
   "outputs": [],
   "source": [
    "def mapFeature(X1, X2, degree=6):\n",
    "    \"\"\"\n",
    "    Maps the two input features to quadratic features used in the regularization exercise.\n",
    "    Returns a new feature array with more features, comprising of\n",
    "    X1, X2, X1.^2, X2.^2, X1*X2, X1*X2.^2, etc..\n",
    "    Parameters\n",
    "    ----------\n",
    "    X1 : array_like\n",
    "        A vector of shape (m, 1), containing one feature for all examples.\n",
    "    X2 : array_like\n",
    "        A vector of shape (m, 1), containing a second feature for all examples.\n",
    "        Inputs X1, X2 must be the same size.\n",
    "    degree: int, optional\n",
    "        The polynomial degree.\n",
    "    Returns\n",
    "    -------\n",
    "    : array_like\n",
    "        A matrix of of m rows, and columns depend on the degree of polynomial.\n",
    "    \"\"\"\n",
    "    if X1.ndim > 0:\n",
    "        out = [np.ones(X1.shape[0])]\n",
    "    else:\n",
    "        out = [np.ones(1)]\n",
    "\n",
    "    for i in range(1, degree + 1):\n",
    "        for j in range(i + 1):\n",
    "            out.append((X1 ** (i - j)) * (X2 ** j))\n",
    "\n",
    "    if X1.ndim > 0:\n",
    "        return np.stack(out, axis=1)\n",
    "    else:\n",
    "        return np.array(out)\n",
    "    "
   ]
  },
  {
   "cell_type": "code",
   "execution_count": 261,
   "metadata": {
    "button": false,
    "collapsed": true,
    "deletable": true,
    "new_sheet": false,
    "run_control": {
     "read_only": false
    }
   },
   "outputs": [],
   "source": [
    "#print(\"\\n\\nmapFeature degree parameter = 6\\n\\n\")\n",
    "# Note that mapFeature also adds a column of ones for us, so the intercept\n",
    "# term is handled\n",
    "X = mapFeature(X[:, 0], X[:, 1],6)\n",
    "n = X.shape[1]"
   ]
  },
  {
   "cell_type": "markdown",
   "metadata": {
    "button": false,
    "deletable": true,
    "new_sheet": false,
    "run_control": {
     "read_only": false
    }
   },
   "source": [
    "Now we will implement code to compute the cost function and gradient for regularized logistic regression. Complete the code for the function costFunctionReg below to return the cost and gradient.\n",
    "\n",
    "The regularized cost function in logistic regression is\n",
    "\n",
    "$$ J(\\theta) = \\frac{1}{m} \\sum_{i=1}^m \\left[ -y^{(i)}\\log \\left( h_\\theta \\left(x^{(i)} \\right) \\right) - \\left( 1 - y^{(i)} \\right) \\log \\left( 1 - h_\\theta \\left( x^{(i)} \\right) \\right) \\right] + \\frac{\\lambda}{2m} \\sum_{j=1}^n \\theta_j^2 $$\n",
    "Note that you should not regularize the parameters $\\theta_0$. The gradient of the cost function is a vector where the $j^{th}$ element is defined as follows:\n",
    "\n",
    "$$ \\frac{\\partial J(\\theta)}{\\partial \\theta_0} = \\frac{1}{m} \\sum_{i=1}^m \\left( h_\\theta \\left(x^{(i)}\\right) - y^{(i)} \\right) x_j^{(i)} \\qquad \\text{for } j =0 $$$$ \\frac{\\partial J(\\theta)}{\\partial \\theta_j} = \\left( \\frac{1}{m} \\sum_{i=1}^m \\left( h_\\theta \\left(x^{(i)}\\right) - y^{(i)} \\right) x_j^{(i)} \\right) + \\frac{\\lambda}{m}\\theta_j \\qquad \\text{for } j \\ge 1 $$"
   ]
  },
  {
   "cell_type": "code",
   "execution_count": 264,
   "metadata": {
    "button": false,
    "collapsed": true,
    "deletable": true,
    "new_sheet": false,
    "run_control": {
     "read_only": false
    }
   },
   "outputs": [],
   "source": [
    "def compute_RegularizedCost(theta,X,y,lambda_=1):\n",
    "    \n",
    "    h = sigmoid(X @ theta)\n",
    "    J = 0\n",
    "    J += (1/m) * sum(-y * np.log(h) - (1-y) * np.log(1-h)) + (lambda_ / (2 * m)) * sum(np.square(theta))\n",
    "    \n",
    "    grad = [0] * (n)\n",
    "    grad[0] = (1/m) * sum((h - y) * X[:,0])\n",
    "    for i in range(1,n):\n",
    "        grad[i] = (1/m) * sum((h - y) * X[:,i]) + (lambda_ / m) * theta[i]\n",
    "    \n",
    "    return  J, np.array(grad)\n"
   ]
  },
  {
   "cell_type": "markdown",
   "metadata": {
    "button": false,
    "deletable": true,
    "new_sheet": false,
    "run_control": {
     "read_only": false
    }
   },
   "source": [
    "Testing a few values"
   ]
  },
  {
   "cell_type": "code",
   "execution_count": 219,
   "metadata": {
    "button": false,
    "collapsed": false,
    "deletable": true,
    "new_sheet": false,
    "run_control": {
     "read_only": false
    }
   },
   "outputs": [
    {
     "name": "stdout",
     "output_type": "stream",
     "text": [
      "Cost at initial theta (zeros): 0.693\n",
      "Expected cost (approx)       : 0.693\n",
      "\n",
      "Gradient at initial theta (zeros) - first five values only:\n",
      "\t[0.0085, 0.0188, 0.0001, 0.0503, 0.0115]\n",
      "Expected gradients (approx) - first five values only:\n",
      "\t[0.0085, 0.0188, 0.0001, 0.0503, 0.0115]\n",
      "\n",
      "------------------------------\n",
      "\n",
      "Cost at test theta    : 3.21\n",
      "Expected cost (approx): 3.16\n",
      "\n",
      "Gradient at test theta (ones) - first five values only:\n",
      "\t[0.3460, 0.1614, 0.1948, 0.2269, 0.0922]\n",
      "Expected gradients (approx) - first five values only:\n",
      "\t[0.3460, 0.1614, 0.1948, 0.2269, 0.0922]\n"
     ]
    }
   ],
   "source": [
    "# Initialize fitting parameters\n",
    "initial_theta = np.zeros(X.shape[1])\n",
    "\n",
    "# Compute and display initial cost and gradient for regularized logistic\n",
    "# regression\n",
    "cost, grad = compute_RegularizedCost(initial_theta, X, y)\n",
    "\n",
    "print('Cost at initial theta (zeros): {:.3f}'.format(cost))\n",
    "print('Expected cost (approx)       : 0.693\\n')\n",
    "\n",
    "print('Gradient at initial theta (zeros) - first five values only:')\n",
    "print('\\t[%.4f, %.4f, %.4f, %.4f, %.4f]' % (grad[0],grad[1],grad[2],grad[3],grad[4]))\n",
    "print('Expected gradients (approx) - first five values only:')\n",
    "print('\\t[0.0085, 0.0188, 0.0001, 0.0503, 0.0115]\\n')\n",
    "\n",
    "\n",
    "# Compute and display cost and gradient\n",
    "# with all-ones theta and lambda = 10\n",
    "test_theta = np.ones(X.shape[1])\n",
    "cost, grad = compute_RegularizedCost(test_theta, X, y,10)\n",
    "\n",
    "print('------------------------------\\n')\n",
    "print('Cost at test theta    : {:.2f}'.format(cost))\n",
    "print('Expected cost (approx): 3.16\\n')\n",
    "\n",
    "print('Gradient at test theta (ones) - first five values only:')\n",
    "print('\\t[%.4f, %.4f, %.4f, %.4f, %.4f]' % (grad[0],grad[1],grad[2],grad[3],grad[4]))\n",
    "print('Expected gradients (approx) - first five values only:')\n",
    "print('\\t[0.3460, 0.1614, 0.1948, 0.2269, 0.0922]')"
   ]
  },
  {
   "cell_type": "markdown",
   "metadata": {
    "button": false,
    "deletable": true,
    "new_sheet": false,
    "run_control": {
     "read_only": false
    }
   },
   "source": [
    "#### Method 1: Gradient Descent"
   ]
  },
  {
   "cell_type": "code",
   "execution_count": 230,
   "metadata": {
    "button": false,
    "collapsed": true,
    "deletable": true,
    "new_sheet": false,
    "run_control": {
     "read_only": false
    }
   },
   "outputs": [],
   "source": [
    "def gradientDescent(X,y,theta,alpha=1,num_iters=2000,Lambda=1):\n",
    "    \"\"\"\n",
    "    Take in numpy array X, y and theta and update theta by taking num_iters gradient steps\n",
    "    with learning rate of alpha\n",
    "    \n",
    "    return theta and the list of the cost of theta during each iteration\n",
    "    \"\"\"\n",
    "    J_history = []\n",
    "    \n",
    "    for i in range(num_iters):\n",
    "        cost, grad = compute_RegularizedCost(theta,X,y)\n",
    "        theta = theta - (alpha * grad)\n",
    "        J_history.append(cost)\n",
    "    \n",
    "    return theta , J_history, min(J_history)"
   ]
  },
  {
   "cell_type": "markdown",
   "metadata": {
    "button": false,
    "deletable": true,
    "new_sheet": false,
    "run_control": {
     "read_only": false
    }
   },
   "source": [
    "Predict the y value given X and theta"
   ]
  },
  {
   "cell_type": "code",
   "execution_count": 231,
   "metadata": {
    "button": false,
    "collapsed": true,
    "deletable": true,
    "new_sheet": false,
    "run_control": {
     "read_only": false
    }
   },
   "outputs": [],
   "source": [
    "def classifierPredict(theta,X):\n",
    "    \"\"\"\n",
    "    take in numpy array of theta and X and predict the class \n",
    "    \"\"\"\n",
    "    predictions = X.dot(theta)\n",
    "    \n",
    "    return predictions>0"
   ]
  },
  {
   "cell_type": "markdown",
   "metadata": {
    "button": false,
    "deletable": true,
    "new_sheet": false,
    "run_control": {
     "read_only": false
    }
   },
   "source": [
    "Post gradient descent results"
   ]
  },
  {
   "cell_type": "code",
   "execution_count": 234,
   "metadata": {
    "button": false,
    "collapsed": false,
    "deletable": true,
    "new_sheet": false,
    "run_control": {
     "read_only": false
    }
   },
   "outputs": [
    {
     "name": "stdout",
     "output_type": "stream",
     "text": [
      "Minimum cost:  0.5358002433329203\n",
      "Final Theta: \n",
      " [ 1.27273951  0.6252718   1.18108869 -2.01996087 -0.91742376 -1.43166445\n",
      "  0.12400634 -0.36553439 -0.35723963 -0.17513048 -1.45815646 -0.05098906\n",
      " -0.61555504 -0.27470631 -1.19281652 -0.24218823 -0.20600608 -0.04473074\n",
      " -0.27778449 -0.2953781  -0.45635749 -1.04320249  0.02777172 -0.2924313\n",
      "  0.01556683 -0.32737957 -0.14388692 -0.92465257]\n"
     ]
    },
    {
     "data": {
      "image/png": "[encoded data removed]",
      "text/plain": [
       "<Figure size 432x288 with 1 Axes>"
      ]
     },
     "metadata": {
      "needs_background": "light"
     },
     "output_type": "display_data"
    }
   ],
   "source": [
    "theta_final, cost_history, min_cost = gradientDescent(X,y,test_theta)\n",
    "print(\"Minimum cost: \",min_cost)\n",
    "print(\"Final Theta: \\n\", theta_final)\n",
    "\n",
    "#Visulaizing cost function\n",
    "plt.plot(cost_history)\n",
    "plt.ylabel(\"Cost\")\n",
    "plt.xlabel(\"Iterations\")\n",
    "plt.title(\"Cost Function Gradient Descent\")\n",
    "plt.show()"
   ]
  },
  {
   "cell_type": "markdown",
   "metadata": {
    "button": false,
    "deletable": true,
    "new_sheet": false,
    "run_control": {
     "read_only": false
    }
   },
   "source": [
    "Predict the model accuracy on the training set"
   ]
  },
  {
   "cell_type": "code",
   "execution_count": 233,
   "metadata": {
    "button": false,
    "collapsed": false,
    "deletable": true,
    "new_sheet": false,
    "run_control": {
     "read_only": false
    }
   },
   "outputs": [
    {
     "name": "stdout",
     "output_type": "stream",
     "text": [
      "\n",
      "-------------------------------------------------\n",
      "Train Accuracy of the model: 83.05084745762711 %\n",
      "-------------------------------------------------\n"
     ]
    }
   ],
   "source": [
    "p = classifierPredict(theta_final,X)\n",
    "print(\"\\n-------------------------------------------------\")\n",
    "print(\"Train Accuracy of the model:\", (sum(p==y)/len(y) *100),\"%\")\n",
    "print(\"-------------------------------------------------\")\n"
   ]
  },
  {
   "cell_type": "markdown",
   "metadata": {
    "button": false,
    "deletable": true,
    "new_sheet": false,
    "run_control": {
     "read_only": false
    }
   },
   "source": [
    "#### Plotting the Decision Boundary\n",
    "To visualize the model learned by this classifier, we plot the non-linear decision boundary by computing the classifier’s predictions on an evenly spaced grid and then and draw a contour plot where the predictions change from y = 0 to y = 1."
   ]
  },
  {
   "cell_type": "code",
   "execution_count": 266,
   "metadata": {
    "button": false,
    "collapsed": false,
    "deletable": true,
    "new_sheet": false,
    "run_control": {
     "read_only": false
    }
   },
   "outputs": [
    {
     "data": {
      "text/plain": [
       "<matplotlib.legend.Legend at 0x143e71c90>"
      ]
     },
     "execution_count": 266,
     "metadata": {},
     "output_type": "execute_result"
    },
    {
     "data": {
      "image/png": "[encoded data removed]",
      "text/plain": [
       "<Figure size 432x288 with 1 Axes>"
      ]
     },
     "metadata": {
      "needs_background": "light"
     },
     "output_type": "display_data"
    }
   ],
   "source": [
    "X, y = data[:, 0:2], data[:, 2]\n",
    "#Scatter plot of data points\n",
    "plt.scatter(X[pos,0], X[pos,1],label = 'Accepted')\n",
    "plt.scatter(X[neg,0], X[neg,1],label = 'Rejected')\n",
    "plt.xlabel('Microchip Test 1')\n",
    "plt.ylabel('Microchip Test 2')\n",
    "plt.title('Plotting Decision Boundary')\n",
    "# Plotting decision boundary\n",
    "u_vals = np.linspace(-1,1.5,50)\n",
    "v_vals= np.linspace(-1,1.5,50)\n",
    "z=np.zeros((len(u_vals),len(v_vals)))\n",
    "for i in range(len(u_vals)):\n",
    "    for j in range(len(v_vals)):\n",
    "        z[i,j] =mapFeature(u_vals[i],v_vals[j],6) @ theta_final\n",
    "plt.contour(u_vals,v_vals,z.T,0)\n",
    "plt.legend()"
   ]
  },
  {
   "cell_type": "markdown",
   "metadata": {
    "button": false,
    "deletable": true,
    "new_sheet": false,
    "run_control": {
     "read_only": false
    }
   },
   "source": [
    "#### Method 2: scipy.optimize"
   ]
  },
  {
   "cell_type": "code",
   "execution_count": 262,
   "metadata": {
    "button": false,
    "collapsed": false,
    "deletable": true,
    "new_sheet": false,
    "run_control": {
     "read_only": false
    }
   },
   "outputs": [
    {
     "name": "stdout",
     "output_type": "stream",
     "text": [
      "Final theta:  [ 1.25441474  0.62276759  1.19242754 -2.00505509 -0.87290722 -1.3618429\n",
      "  0.12573875 -0.35536852 -0.3560363  -0.1709633  -1.45784682 -0.06683325\n",
      " -0.61498636 -0.25080289 -1.18096023 -0.22566833 -0.20562889 -0.06382328\n",
      " -0.27187028 -0.27658988 -0.46836013 -1.03247362  0.01627587 -0.29695277\n",
      "  0.00581073 -0.32631635 -0.12073387 -0.93022963]\n"
     ]
    }
   ],
   "source": [
    "def costFunctionReg(theta, X, y, lambda_):\n",
    "    \"\"\"\n",
    "    Compute cost and gradient for logistic regression with regularization.\n",
    "    \n",
    "    Parameters\n",
    "    ----------\n",
    "    theta : array_like\n",
    "        Logistic regression parameters. A vector with shape (n, ). n is \n",
    "        the number of features including any intercept. If we have mapped\n",
    "        our initial features into polynomial features, then n is the total \n",
    "        number of polynomial features. \n",
    "    \n",
    "    X : array_like\n",
    "        The data set with shape (m x n). m is the number of examples, and\n",
    "        n is the number of features (after feature mapping).\n",
    "    \n",
    "    y : array_like\n",
    "        The data labels. A vector with shape (m, ).\n",
    "    \n",
    "    lambda_ : float\n",
    "        The regularization parameter. \n",
    "    \n",
    "    Returns\n",
    "    -------\n",
    "    J : float\n",
    "        The computed value for the regularized cost function. \n",
    "    \n",
    "    grad : array_like\n",
    "        A vector of shape (n, ) which is the gradient of the cost\n",
    "        function with respect to theta, at the current values of theta.\n",
    "    \n",
    "    Instructions\n",
    "    ------------\n",
    "    Compute the cost J of a particular choice of theta.\n",
    "    Compute the partial derivatives and set grad to the partial\n",
    "    derivatives of the cost w.r.t. each parameter in theta.\n",
    "    \"\"\"\n",
    "    # Initialize some useful values\n",
    "    m = y.size  # number of training examples\n",
    "\n",
    "    # You need to return the following variables correctly \n",
    "    J = 0\n",
    "    \n",
    "    h = sigmoid(X @ theta)\n",
    "    J = 0\n",
    "    J += (1/m) * sum(-y * np.log(h) - (1-y) * np.log(1-h)) + (lambda_ / (2 * m)) * sum(np.square(theta))\n",
    "    \n",
    "    grad = [0] * (n)\n",
    "    grad[0] = (1/m) * sum((h - y) * X[:,0])\n",
    "    for i in range(1,n):\n",
    "        grad[i] = (1/m) * sum((h - y) * X[:,i]) + (lambda_ / m) * theta[i]\n",
    "    \n",
    "    return  J, np.array(grad)\n",
    "\n",
    "\n",
    "# Initialize fitting parameters\n",
    "initial_theta = np.zeros(X.shape[1])\n",
    "\n",
    "# Set regularization parameter lambda to 1 (you should vary this)\n",
    "lambda_ = 1\n",
    "\n",
    "# set options for optimize.minimize\n",
    "options= {'maxiter': 100}\n",
    "\n",
    "res = optimize.minimize(costFunctionReg,\n",
    "                        initial_theta,\n",
    "                        (X, y, lambda_),\n",
    "                        jac=True,\n",
    "                        method='TNC',\n",
    "                        options=options)\n",
    "\n",
    "# the fun property of OptimizeResult object returns\n",
    "# the value of costFunction at optimized theta\n",
    "cost = res.fun\n",
    "\n",
    "# the optimized theta is in the x property of the result\n",
    "theta = res.x\n",
    "\n",
    "print(\"Final theta: \",theta)"
   ]
  },
  {
   "cell_type": "code",
   "execution_count": 260,
   "metadata": {
    "button": false,
    "collapsed": false,
    "deletable": true,
    "new_sheet": false,
    "run_control": {
     "read_only": false
    }
   },
   "outputs": [
    {
     "data": {
      "text/plain": [
       "<matplotlib.legend.Legend at 0x143c13c90>"
      ]
     },
     "execution_count": 260,
     "metadata": {},
     "output_type": "execute_result"
    },
    {
     "data": {
      "image/png": "[encoded data removed]",
      "text/plain": [
       "<Figure size 432x288 with 1 Axes>"
      ]
     },
     "metadata": {
      "needs_background": "light"
     },
     "output_type": "display_data"
    }
   ],
   "source": [
    "X, y = data[:, 0:2], data[:, 2]\n",
    "#Scatter plot of data points\n",
    "plt.scatter(X[pos,0], X[pos,1],label = 'Accepted')\n",
    "plt.scatter(X[neg,0], X[neg,1],label = 'Rejected')\n",
    "plt.xlabel('Microchip Test 1')\n",
    "plt.ylabel('Microchip Test 2')\n",
    "plt.title('Plotting Decision Boundary')\n",
    "# Plotting decision boundary\n",
    "u_vals = np.linspace(-1,1.5,50)\n",
    "v_vals= np.linspace(-1,1.5,50)\n",
    "z=np.zeros((len(u_vals),len(v_vals)))\n",
    "for i in range(len(u_vals)):\n",
    "    for j in range(len(v_vals)):\n",
    "        z[i,j] =mapFeature(u_vals[i],v_vals[j],6) @ theta\n",
    "plt.contour(u_vals,v_vals,z.T,0)\n",
    "plt.legend()\n",
    "\n",
    "#print(theta)"
   ]
  },
  {
   "cell_type": "code",
   "execution_count": 259,
   "metadata": {
    "button": false,
    "collapsed": false,
    "deletable": true,
    "new_sheet": false,
    "run_control": {
     "read_only": false
    }
   },
   "outputs": [
    {
     "name": "stdout",
     "output_type": "stream",
     "text": [
      "Train Accuracy: 83.1 %\n",
      "Expected accuracy (with lambda = 1): 83.1 % (approx)\n",
      "\n"
     ]
    }
   ],
   "source": [
    "# Compute accuracy on our training set\n",
    "p = classifierPredict(theta, X)\n",
    "\n",
    "print('Train Accuracy: %.1f %%' % (np.mean(p == y) * 100))\n",
    "print('Expected accuracy (with lambda = 1): 83.1 % (approx)\\n')"
   ]
  },
  {
   "cell_type": "markdown",
   "metadata": {
    "button": false,
    "deletable": true,
    "new_sheet": false,
    "run_control": {
     "read_only": false
    }
   },
   "source": [
    "Feel free to manipulate the regularization constant lambda_ and the degree of mapFeature to see if we can better fit the decision boundary to separate the data points"
   ]
  },
  {
   "cell_type": "code",
   "execution_count": null,
   "metadata": {
    "button": false,
    "collapsed": true,
    "deletable": true,
    "new_sheet": false,
    "run_control": {
     "read_only": false
    }
   },
   "outputs": [],
   "source": []
  }
 ],
 "metadata": {
  "kernelspec": {
   "display_name": "Python 3",
   "language": "python",
   "name": "python3"
  },
  "language_info": {
   "codemirror_mode": {
    "name": "ipython",
    "version": 3
   },
   "file_extension": ".py",
   "mimetype": "text/x-python",
   "name": "python",
   "nbconvert_exporter": "python",
   "pygments_lexer": "ipython3",
   "version": "3.5.0"
  }
 },
 "nbformat": 4,
 "nbformat_minor": 2
}
