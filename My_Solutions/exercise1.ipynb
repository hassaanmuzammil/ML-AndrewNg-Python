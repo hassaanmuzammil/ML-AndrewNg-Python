{
 "cells": [
  {
   "cell_type": "markdown",
   "metadata": {},
   "source": [
    "# Programming Exercise 1: Linear Regression\n",
    "\n",
    "The file Data/ex1data1.txt contains the dataset for a linear regression problem. The first column is the population of a city (in 10,000s) and the second column is the profit of a food truck in that city (in $10,000s).\n",
    "\n",
    "Implement the gradient descent algorithm to find the best fit line through the points which describes the profit linearly in terms of the city population."
   ]
  },
  {
   "cell_type": "code",
   "execution_count": 2,
   "metadata": {},
   "outputs": [],
   "source": [
    "# Scientific and vector computation for python\n",
    "import numpy as np\n",
    "\n",
    "# Plotting library\n",
    "import matplotlib.pyplot as plt\n",
    "\n",
    "\n",
    "# Read comma separated data\n",
    "path = '/Users/hassaanmuzammil/Downloads/ml-coursera-python-assignments-master/Exercise1/Data/ex1data1.txt'\n",
    "data = np.loadtxt(path , delimiter=',')\n",
    "X, y = data[:, 0], data[:, 1]\n",
    "m = y.size  # number of training example"
   ]
  },
  {
   "cell_type": "code",
   "execution_count": 9,
   "metadata": {},
   "outputs": [
    {
     "data": {
      "text/plain": [
       "Text(0.5, 1.0, 'Dataset')"
      ]
     },
     "execution_count": 9,
     "metadata": {},
     "output_type": "execute_result"
    },
    {
     "data": {
      "image/png": "[encoded data removed]",
      "text/plain": [
       "<Figure size 432x288 with 1 Axes>"
      ]
     },
     "metadata": {
      "needs_background": "light"
     },
     "output_type": "display_data"
    }
   ],
   "source": [
    "plt.plot(X,y,'ro',ms=10,mec='k') \n",
    "plt.ylabel('Profit in $10,000')\n",
    "plt.xlabel('Population of City in 10,000s')\n",
    "plt.title('Dataset')"
   ]
  },
  {
   "cell_type": "markdown",
   "metadata": {},
   "source": [
    "The cost function for linear regression is given by\n",
    "\n",
    "$$ J(\\theta) = \\frac{1}{2m} \\sum_{i=1}^m \\left( h_{\\theta}(x^{(i)}) - y^{(i)}\\right)^2$$\n",
    "where the hypothesis $h_\\theta(x)$ is given by the linear model$$ h_\\theta(x) = \\theta^Tx = \\theta_0 + \\theta_1 x_1$$\n",
    "\n",
    "Recall that the parameters of your model are the $\\theta_j$ values. These are the values you will adjust to minimize cost $J(\\theta)$. One way to do this is to use the batch gradient descent algorithm. In batch gradient descent, each iteration performs the update\n",
    "\n",
    "$$ \\theta_j = \\theta_j - \\alpha \\frac{1}{m} \\sum_{i=1}^m \\left( h_\\theta(x^{(i)}) - y^{(i)}\\right)x_j^{(i)} \\qquad \\text{simultaneously update } \\theta_j \\text{ for all } j$$\n",
    "With each step of gradient descent, your parameters $\\theta_j$ come closer to the optimal values that will achieve the lowest cost J($\\theta$)."
   ]
  },
  {
   "cell_type": "code",
   "execution_count": 17,
   "metadata": {},
   "outputs": [],
   "source": [
    "def cost_function(x,y,weight,bias):\n",
    "    \n",
    "    \"\"\"\n",
    "    Compute cost for linear regression. Computes the cost of using theta as the\n",
    "    parameter for linear regression to fit the data points in X and y.\n",
    "    \n",
    "    Parameters\n",
    "    ----------\n",
    "    \n",
    "    X : array_like\n",
    "        The input dataset of shape (m, ), where m is the number of examples/ samples. \n",
    "    \n",
    "    y : array_like\n",
    "        The values of the function at each data point. This is a vector of\n",
    "        shape (m, ).\n",
    "    \n",
    "    weight, bias : float\n",
    "        The parameters for the regression function. \n",
    "        \n",
    "        \n",
    "    Returns\n",
    "    -------\n",
    "    J : float\n",
    "        The value of the regression cost function.\n",
    "        \n",
    "    \"\"\"\n",
    "    \n",
    "    total_error = 0.0\n",
    "    for i  in range(m):\n",
    "        total_error += (y[i] - (x[i] * weight + bias)) ** 2\n",
    "        J = total_error / m\n",
    "    return  J\n"
   ]
  },
  {
   "cell_type": "code",
   "execution_count": 58,
   "metadata": {},
   "outputs": [],
   "source": [
    "    \n",
    "def gradientDescent(X, y,weight = 0,bias = 0,iters = 3000,learning_rate = 0.01):\n",
    "\n",
    "        \n",
    "    \"\"\"    \n",
    "    Use the gradient descent algorithm to compute the minimum value \n",
    "    of the cost function with respect to the bias and weights.\n",
    "\n",
    "    Parameters\n",
    "    ----------\n",
    "\n",
    "    learning_rate : for calculation of step size\n",
    "    iters: number of iterations\n",
    "    weight, bias: initial value of weight and bias\n",
    "    X,y: dataset variables\n",
    "\n",
    "    Returns\n",
    "    -------\n",
    "    weight, bias: weight and bias that lead to a minimum cost function \n",
    "    J_history: cost function values with the progression of gradient descent\n",
    "    min(J_history): minimum cost function with optimized weight and bias\n",
    "     \n",
    "    \"\"\"\n",
    "    \n",
    "    J_history = []\n",
    "    \n",
    "    for i in range(iters):\n",
    "        weight_deriv = 0\n",
    "        bias_deriv = 0\n",
    "        for i in range(m):\n",
    "            weight_deriv += -2 * X[i] * (y[i] - (weight * X[i] + bias))\n",
    "            bias_deriv += -2 * (y[i] - (weight * X[i] + bias))    \n",
    "            \n",
    "        weight = weight -  ((weight_deriv / m) * learning_rate)\n",
    "        bias = bias -  ((bias_deriv / m) * learning_rate)\n",
    "        J_history.append(cost_function(X,y,weight,bias))\n",
    "    \n",
    "    return weight, bias, J_history, min(J_history)\n"
   ]
  },
  {
   "cell_type": "markdown",
   "metadata": {},
   "source": [
    "Visualizing how the cost function decreases with each iteration"
   ]
  },
  {
   "cell_type": "code",
   "execution_count": 59,
   "metadata": {},
   "outputs": [
    {
     "name": "stdout",
     "output_type": "stream",
     "text": [
      "Minimum Cost:  8.953942753066652\n"
     ]
    },
    {
     "data": {
      "image/png": "[encoded data removed]",
      "text/plain": [
       "<Figure size 432x288 with 1 Axes>"
      ]
     },
     "metadata": {
      "needs_background": "light"
     },
     "output_type": "display_data"
    }
   ],
   "source": [
    "opt_weight, opt_bias, cost, min_cost = gradientDescent(X, y)\n",
    "plt.plot(cost)\n",
    "plt.xlabel(\"Iteration\")\n",
    "plt.ylabel(\"$ J(\\theta)$\")\n",
    "print(\"Minimum Cost: \",min_cost)"
   ]
  },
  {
   "cell_type": "markdown",
   "metadata": {},
   "source": [
    "Plotting the best fit line through the data points"
   ]
  },
  {
   "cell_type": "code",
   "execution_count": 60,
   "metadata": {},
   "outputs": [
    {
     "data": {
      "image/png": "[encoded data removed]",
      "text/plain": [
       "<Figure size 432x288 with 1 Axes>"
      ]
     },
     "metadata": {
      "needs_background": "light"
     },
     "output_type": "display_data"
    }
   ],
   "source": [
    "plt.plot(X,y,'ro',ms=10,mec='k')\n",
    "plt.plot(X,opt_weight*X+opt_bias)\n",
    "plt.ylabel('Profit in $10,000')\n",
    "plt.xlabel('Population of City in 10,000s')\n",
    "plt.title('Best fit line through the data points')\n",
    "plt.show()"
   ]
  },
  {
   "cell_type": "markdown",
   "metadata": {},
   "source": [
    "Optimized parameters"
   ]
  },
  {
   "cell_type": "code",
   "execution_count": 61,
   "metadata": {},
   "outputs": [
    {
     "name": "stdout",
     "output_type": "stream",
     "text": [
      "Optimized weight:  1.1930257781179299\n",
      "Optimized bias:  -3.895702578437696\n"
     ]
    }
   ],
   "source": [
    "print(\"Optimized weight: \",opt_weight)\n",
    "print(\"Optimized bias: \",opt_bias)"
   ]
  },
  {
   "cell_type": "markdown",
   "metadata": {},
   "source": [
    "Predicting the profit given population of city "
   ]
  },
  {
   "cell_type": "code",
   "execution_count": 62,
   "metadata": {},
   "outputs": [
    {
     "name": "stdout",
     "output_type": "stream",
     "text": [
      "Predicted profit in 10,000s given population of 18.945 in 10,000s:  18.706170788006485\n",
      "Actual profit in 10,000s given population of 18.945 in 10,000s: $22.638\n",
      "Predicted profit in 10,000s given population of 12.828 in 10,000s:  11.408432103259107\n",
      "Actual profit in 10,000s given population of 12.828 in 10,000s: $13.501\n"
     ]
    }
   ],
   "source": [
    "#test value : 18.945,22.638\n",
    "print(\"Predicted profit in 10,000s given population of 18.945 in 10,000s: \",opt_weight*18.945+opt_bias)\n",
    "print(\"Actual profit in 10,000s given population of 18.945 in 10,000s: $22.638\")\n",
    "#test value: 12.828,13.501\n",
    "print(\"Predicted profit in 10,000s given population of 12.828 in 10,000s: \",opt_weight*12.828+opt_bias)\n",
    "print(\"Actual profit in 10,000s given population of 12.828 in 10,000s: $13.501\")"
   ]
  },
  {
   "cell_type": "markdown",
   "metadata": {},
   "source": [
    "# Programming Exercise 2: Multiple Linear Regression\n",
    "\n",
    "The file ex1data2.txt contains a training set of housing prices in Port- land, Oregon. The first column is the size of the house (in square feet), the second column is the number of bedrooms, and the third column is the price of the house.\n"
   ]
  },
  {
   "cell_type": "code",
   "execution_count": 146,
   "metadata": {},
   "outputs": [],
   "source": [
    "#Loading data\n",
    "path = '/Users/hassaanmuzammil/Downloads/ml-coursera-python-assignments-master/Exercise1/Data/ex1data2.txt'\n",
    "data = np.loadtxt(path , delimiter=',')\n",
    "X, y = data[:, 0:2], data[:, 2]\n",
    "m = y.size  # number of training example\n",
    "\n",
    "#Mean and Standard Deviation used later in prediction of house prices\n",
    "mean1 = np.mean(X[:,0])\n",
    "mean2 = np.mean(X[:,1])\n",
    "std1 = np.std(X[:,0])\n",
    "std2 = np.std(X[:,1])"
   ]
  },
  {
   "cell_type": "code",
   "execution_count": 158,
   "metadata": {},
   "outputs": [
    {
     "data": {
      "image/png": "[encoded data removed]",
      "text/plain": [
       "<Figure size 432x288 with 2 Axes>"
      ]
     },
     "metadata": {
      "needs_background": "light"
     },
     "output_type": "display_data"
    }
   ],
   "source": [
    "#Visualizing the data\n",
    "plt.subplot(1,2,1)\n",
    "plt.scatter(X[:,0],y,c='g')\n",
    "plt.xlabel(\"Covered Area in sq_ft\")\n",
    "plt.ylabel(\"House Price in $\")\n",
    "plt.subplot(1,2,2)\n",
    "plt.scatter(X[:,1],y,c='b')\n",
    "plt.xlabel(\"Bedrooms\")\n",
    "plt.tight_layout(pad=2, w_pad=2, h_pad=1.0)\n",
    "plt.show()"
   ]
  },
  {
   "cell_type": "markdown",
   "metadata": {},
   "source": [
    "Previously, we implemented gradient descent on a univariate regression problem. The only difference now is that there is one more feature in the matrix $X$. The hypothesis function and the batch gradient descent update rule remain unchanged.\n",
    "\n",
    "The functions computeCostMulti and gradientDescentMulti implement the cost function and gradient descent for linear regression with multiple variables. \n",
    "\n"
   ]
  },
  {
   "cell_type": "code",
   "execution_count": 90,
   "metadata": {},
   "outputs": [],
   "source": [
    "def computeCostMulti(X, y, theta): #X -> (ones column part of X)\n",
    "    \"\"\"\n",
    "    Compute cost for linear regression with multiple variables.\n",
    "    Computes the cost of using theta as the parameter for linear regression to fit the data points in X and y.\n",
    "    \n",
    "    Parameters\n",
    "    ----------\n",
    "    X : array_like\n",
    "        The dataset of shape (m x n+1).\n",
    "        The ones column  (for bias is included in X.\n",
    "    \n",
    "    y : array_like\n",
    "        A vector of shape (m, ) for the values at a given data point.\n",
    "    \n",
    "    theta : array_like\n",
    "        The linear regression parameters. A vector of shape (n+1, )\n",
    "    \n",
    "    Returns\n",
    "    -------\n",
    "    J : float\n",
    "        The value of the cost function. \n",
    "    \n",
    "    Instructions\n",
    "    ------------\n",
    "    Compute the cost of a particular choice of theta. You should set J to the cost.\n",
    "    \"\"\"\n",
    "    # Initialize some useful values\n",
    "    m = y.shape[0] # number of training examples\n",
    "    \n",
    "    # You need to return the following variable correctly\n",
    "    J = 0\n",
    "    \n",
    "    # Add a column of ones to X. The numpy function stack joins arrays along a given axis. \n",
    "    # The first axis (axis=0) refers to rows (training examples) \n",
    "    # and second axis (axis=1) refers to columns (features).\n",
    "    \n",
    "    h = hypothesis(theta,X)\n",
    "    \n",
    "    for i in range(m):\n",
    "        J += (h - y)[i] ** 2\n",
    "\n",
    "    return (J / m)"
   ]
  },
  {
   "cell_type": "markdown",
   "metadata": {},
   "source": [
    "Hypothesis function predicts a value of y given an X entry and theta "
   ]
  },
  {
   "cell_type": "code",
   "execution_count": 91,
   "metadata": {},
   "outputs": [],
   "source": [
    "def hypothesis(theta, X):   #X -> (ones column part of X)\n",
    "    \n",
    "    h = np.ones(X.shape[0])\n",
    "    y_pred = theta * X\n",
    "    for i in range(m):\n",
    "        h[i] = sum(y_pred[i])\n",
    "    return h"
   ]
  },
  {
   "cell_type": "markdown",
   "metadata": {},
   "source": [
    "By looking at the values, note that house sizes are about 1000 times the number of bedrooms. When features differ by orders of magnitude, first performing feature scaling can make gradient descent converge much more quickly.\n",
    "One such way is to normalize the dataset. \n",
    "\n",
    "                      Normalizing equation: z = (x - mean) / std"
   ]
  },
  {
   "cell_type": "code",
   "execution_count": 129,
   "metadata": {},
   "outputs": [],
   "source": [
    "def normalize(X_train):\n",
    "    \n",
    "    \"\"\"\n",
    "    Normalizes the features in X. returns a normalized version of X where\n",
    "    the mean value of each feature is 0 and the standard deviation\n",
    "    is 1. This is often a good preprocessing step to do when working with\n",
    "    learning algorithms.\n",
    "    \n",
    "    Normalized value z calculated by formula\n",
    "    z = (x - mu / sigma)\n",
    "    \"\"\"\n",
    "    mean = np.ones(X_train.shape[1])     \n",
    "    std = np.ones(X_train.shape[1])\n",
    "    for i in range(0, X_train.shape[1]):\n",
    "        mean[i] = np.mean(X_train.transpose()[i])\n",
    "        std[i] = np.std(X_train.transpose()[i])\n",
    "        for j in range(0, X_train.shape[0]):\n",
    "            X_train[j][i] = (X_train[j][i] - mean[i])/std[i]\n",
    "    return X_train\n"
   ]
  },
  {
   "cell_type": "code",
   "execution_count": 130,
   "metadata": {},
   "outputs": [],
   "source": [
    "def BGD(theta, learning_rate, num_iters, X, y):\n",
    "    '''\n",
    "    Calculates the optimized theta from an initial theta\n",
    "    Keeps track of the cost history with each iteration\n",
    "    '''\n",
    "    cost = [1] * num_iters\n",
    "    h = hypothesis(theta,X)\n",
    "    grad = [0]*3\n",
    "    theta = list(theta)\n",
    "    print('Initial Theta:',theta)\n",
    "    for i in range(num_iters):\n",
    "        for j in range(len(grad)):\n",
    "            grad[j] = sum((2 / m) * (h - y) * (X[:,j]))\n",
    "            \n",
    "        theta[0] = theta[0] - learning_rate * grad[0]\n",
    "        theta[1] = theta[1] - learning_rate * grad[1]\n",
    "        theta[2] = theta[2] - learning_rate * grad[2]\n",
    "        \n",
    "        h = hypothesis(theta,X)\n",
    "        cost[i] = computeCostMulti(X, y, np.array(theta))\n",
    "    \n",
    "    theta = np.array(theta)\n",
    "    minimum_cost = computeCostMulti(X, y, theta)\n",
    "    \n",
    "    return theta, minimum_cost, cost"
   ]
  },
  {
   "cell_type": "markdown",
   "metadata": {},
   "source": [
    "We have to add a ones column to X that corresponds to the bias entry in the theta vector. \n",
    "Then we will normalize X columns\n",
    "Run the Batch Gradient Descent Algorithm\n",
    "Extract the cost history and the optimized theta"
   ]
  },
  {
   "cell_type": "code",
   "execution_count": 131,
   "metadata": {},
   "outputs": [],
   "source": [
    "def multi_linear_regression(X, y, alpha, num_iters):\n",
    "\n",
    "    n = X.shape[1]\n",
    "    ones_column = np.ones((X.shape[0],1))\n",
    "    X = normalize(X)\n",
    "    X = np.concatenate((ones_column, X), axis = 1)\n",
    "    \n",
    "    # initializing the parameter vector...\n",
    "    theta = np.zeros(n+1)\n",
    "    \n",
    "    # returning the optimized parameters by Gradient Descent...\n",
    "    return BGD(theta,alpha,num_iters,X,y)\n",
    "    "
   ]
  },
  {
   "cell_type": "code",
   "execution_count": 132,
   "metadata": {},
   "outputs": [
    {
     "name": "stdout",
     "output_type": "stream",
     "text": [
      "Initial Theta: [0.0, 0.0, 0.0]\n",
      "Optimized Theta:  [340412.65957447 109447.79646964  -6578.35485416]\n",
      "Minimum loss function:  4086560101.205656\n"
     ]
    },
    {
     "data": {
      "image/png": "[encoded data removed]",
      "text/plain": [
       "<Figure size 432x288 with 1 Axes>"
      ]
     },
     "metadata": {
      "needs_background": "light"
     },
     "output_type": "display_data"
    }
   ],
   "source": [
    "theta,minimum_cost,cost = multi_linear_regression(X, y, 0.1, 1000)\n",
    "plt.plot(cost)\n",
    "plt.title(\"Visualizing the cost function\")\n",
    "plt.xlabel(\"Iteration\")\n",
    "plt.ylabel(\" J($\\theta$)\")\n",
    "print('Optimized Theta: ', theta)\n",
    "print('Minimum loss function: ',minimum_cost)"
   ]
  },
  {
   "cell_type": "markdown",
   "metadata": {},
   "source": [
    "Predicting House Prices"
   ]
  },
  {
   "cell_type": "code",
   "execution_count": 133,
   "metadata": {},
   "outputs": [
    {
     "name": "stdout",
     "output_type": "stream",
     "text": [
      "Predicted price of a 1600 sq-ft, 3 br house (using normal equations): $286121\n",
      "From Dataset..\n",
      "Actual price of a 1600 sq-ft, 3 br house: $329900\n"
     ]
    }
   ],
   "source": [
    "#Test case\n",
    "sq_ft = 1600\n",
    "br = 3\n",
    "X_test = np.array([1,(sq_ft-mean1)/std1,(br-mean2)/std2])\n",
    "price = sum(X_test*theta)\n",
    "\n",
    "print('Predicted price of a 1600 sq-ft, 3 br house (using normal equations): ${:.0f}'.format(price))\n",
    "print('From Dataset..')\n",
    "print('Actual price of a 1600 sq-ft, 3 br house: ${:.0f}'.format(329900))"
   ]
  },
  {
   "cell_type": "code",
   "execution_count": null,
   "metadata": {},
   "outputs": [],
   "source": []
  },
  {
   "cell_type": "code",
   "execution_count": null,
   "metadata": {},
   "outputs": [],
   "source": []
  }
 ],
 "metadata": {
  "kernelspec": {
   "display_name": "Python 3",
   "language": "python",
   "name": "python3"
  },
  "language_info": {
   "codemirror_mode": {
    "name": "ipython",
    "version": 3
   },
   "file_extension": ".py",
   "mimetype": "text/x-python",
   "name": "python",
   "nbconvert_exporter": "python",
   "pygments_lexer": "ipython3",
   "version": "3.7.4"
  }
 },
 "nbformat": 4,
 "nbformat_minor": 2
}
